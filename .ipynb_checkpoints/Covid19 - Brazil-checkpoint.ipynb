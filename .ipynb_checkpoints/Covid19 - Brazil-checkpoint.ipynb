{
 "cells": [
  {
   "cell_type": "markdown",
   "metadata": {},
   "source": [
    "\n",
    "### Data about Covid 19 in Brazil.\n",
    "### Obs: The dataset used in this analysis could be downloaded at https://covid.saude.gov.br/\n",
    "####  All charts created in this analysis, can be found in Charts/BrazilData folder, in a folder with the state abbreviation name."
   ]
  },
  {
   "cell_type": "code",
   "execution_count": 1,
   "metadata": {},
   "outputs": [],
   "source": [
    "import pandas as pd \n",
    "import numpy as np\n",
    "import csv\n",
    "import json\n",
    "import requests\n",
    "import urllib.request as downloader\n",
    "import matplotlib.pyplot as plt\n",
    "%matplotlib inline\n",
    "import requests\n",
    "import datetime\n",
    "import seaborn as sns\n",
    "\n",
    "database = pd.read_csv('Data/HIST_PAINEL_COVIDBR_02abr2021.csv', sep=';')\n",
    "\n"
   ]
  },
  {
   "cell_type": "code",
   "execution_count": 2,
   "metadata": {},
   "outputs": [],
   "source": [
    "def downloadFile(url):\n",
    "    import datetime \n",
    "    today = datetime.datetime.now()\n",
    "    try:\n",
    "        print('Downloading Dataset')\n",
    "\n",
    "        r = requests.get(url, allow_redirects=True)\n",
    "        open('Data/HIST_PAINEL_COVIDBR_TODAY.csv', 'wb').write(r.content)\n",
    "        print('Done!')\n",
    "        print('Build Date: %s'%today)\n",
    "    except e:\n",
    "        print(e)\n",
    "        \n",
    "def getFile(url):\n",
    "    import datetime \n",
    "    today = datetime.datetime.now()\n",
    "    r = requests.get(url, allow_redirects=True)\n",
    "\n",
    "    open('Data/HIST_PAINEL_COVIDBR_TODAY.xlsx', 'wb').write(r.content)\n",
    "    print('Done!')\n",
    "    print('Build Date: %s'%today)\n",
    "    \n",
    "import urllib.request\n",
    "def getFileCSV(url):\n",
    "    import datetime \n",
    "    today = datetime.datetime.now()\n",
    "    print('Beginning file download with urllib2...')\n",
    "\n",
    "    urllib.request.urlretrieve(url, 'Data/Covid19Brasil.csv')\n",
    "    print('Done!')\n",
    "    print('Build Date: %s'%today)"
   ]
  },
  {
   "cell_type": "code",
   "execution_count": 3,
   "metadata": {},
   "outputs": [],
   "source": [
    "# import requests\n",
    "# import json\n",
    "# url = 'https://xx9p7hp1p7.execute-api.us-east-1.amazonaws.com/prod/PortalGeralApi'\n",
    "# response=requests.get(url)\n",
    "# response.json()\n",
    "\n",
    "# link_data = response.json()['planilha']['arquivo']['url']\n",
    "# link_data\n",
    "# #WRONG DATA!."
   ]
  },
  {
   "cell_type": "code",
   "execution_count": 4,
   "metadata": {},
   "outputs": [],
   "source": [
    "# url = 'https://brasil.io/dataset/covid19/caso_full/?format=csv'\n",
    "\n",
    "# downloadFile(url)\n"
   ]
  },
  {
   "cell_type": "code",
   "execution_count": 5,
   "metadata": {},
   "outputs": [],
   "source": [
    "# database = pd.read_csv('Data/HIST_PAINEL_COVIDBR_TODAY.csv', sep=',')"
   ]
  },
  {
   "cell_type": "code",
   "execution_count": 6,
   "metadata": {},
   "outputs": [
    {
     "data": {
      "text/plain": [
       "Index(['regiao', 'estado', 'municipio', 'coduf', 'codmun', 'codRegiaoSaude',\n",
       "       'nomeRegiaoSaude', 'data', 'semanaEpi', 'populacaoTCU2019',\n",
       "       'casosAcumulado', 'casosNovos', 'obitosAcumulado', 'obitosNovos',\n",
       "       'Recuperadosnovos', 'emAcompanhamentoNovos', 'interior/metropolitana'],\n",
       "      dtype='object')"
      ]
     },
     "execution_count": 6,
     "metadata": {},
     "output_type": "execute_result"
    }
   ],
   "source": [
    "database.columns"
   ]
  },
  {
   "cell_type": "code",
   "execution_count": 7,
   "metadata": {},
   "outputs": [
    {
     "data": {
      "text/html": [
       "<div>\n",
       "<style scoped>\n",
       "    .dataframe tbody tr th:only-of-type {\n",
       "        vertical-align: middle;\n",
       "    }\n",
       "\n",
       "    .dataframe tbody tr th {\n",
       "        vertical-align: top;\n",
       "    }\n",
       "\n",
       "    .dataframe thead th {\n",
       "        text-align: right;\n",
       "    }\n",
       "</style>\n",
       "<table border=\"1\" class=\"dataframe\">\n",
       "  <thead>\n",
       "    <tr style=\"text-align: right;\">\n",
       "      <th></th>\n",
       "      <th>regiao</th>\n",
       "      <th>estado</th>\n",
       "      <th>municipio</th>\n",
       "      <th>coduf</th>\n",
       "      <th>codmun</th>\n",
       "      <th>codRegiaoSaude</th>\n",
       "      <th>nomeRegiaoSaude</th>\n",
       "      <th>data</th>\n",
       "      <th>semanaEpi</th>\n",
       "      <th>populacaoTCU2019</th>\n",
       "      <th>casosAcumulado</th>\n",
       "      <th>casosNovos</th>\n",
       "      <th>obitosAcumulado</th>\n",
       "      <th>obitosNovos</th>\n",
       "      <th>Recuperadosnovos</th>\n",
       "      <th>emAcompanhamentoNovos</th>\n",
       "      <th>interior/metropolitana</th>\n",
       "    </tr>\n",
       "  </thead>\n",
       "  <tbody>\n",
       "    <tr>\n",
       "      <th>2091131</th>\n",
       "      <td>Centro-Oeste</td>\n",
       "      <td>DF</td>\n",
       "      <td>Brasília</td>\n",
       "      <td>53</td>\n",
       "      <td>530010.0</td>\n",
       "      <td>53001.0</td>\n",
       "      <td>DISTRITO FEDERAL</td>\n",
       "      <td>2021-03-27</td>\n",
       "      <td>12</td>\n",
       "      <td>3015268.0</td>\n",
       "      <td>338930</td>\n",
       "      <td>1636</td>\n",
       "      <td>5717</td>\n",
       "      <td>43</td>\n",
       "      <td>NaN</td>\n",
       "      <td>NaN</td>\n",
       "      <td>1.0</td>\n",
       "    </tr>\n",
       "    <tr>\n",
       "      <th>2091132</th>\n",
       "      <td>Centro-Oeste</td>\n",
       "      <td>DF</td>\n",
       "      <td>Brasília</td>\n",
       "      <td>53</td>\n",
       "      <td>530010.0</td>\n",
       "      <td>53001.0</td>\n",
       "      <td>DISTRITO FEDERAL</td>\n",
       "      <td>2021-03-28</td>\n",
       "      <td>13</td>\n",
       "      <td>3015268.0</td>\n",
       "      <td>340166</td>\n",
       "      <td>1236</td>\n",
       "      <td>5757</td>\n",
       "      <td>40</td>\n",
       "      <td>NaN</td>\n",
       "      <td>NaN</td>\n",
       "      <td>1.0</td>\n",
       "    </tr>\n",
       "    <tr>\n",
       "      <th>2091133</th>\n",
       "      <td>Centro-Oeste</td>\n",
       "      <td>DF</td>\n",
       "      <td>Brasília</td>\n",
       "      <td>53</td>\n",
       "      <td>530010.0</td>\n",
       "      <td>53001.0</td>\n",
       "      <td>DISTRITO FEDERAL</td>\n",
       "      <td>2021-03-29</td>\n",
       "      <td>13</td>\n",
       "      <td>3015268.0</td>\n",
       "      <td>341758</td>\n",
       "      <td>1592</td>\n",
       "      <td>5818</td>\n",
       "      <td>61</td>\n",
       "      <td>NaN</td>\n",
       "      <td>NaN</td>\n",
       "      <td>1.0</td>\n",
       "    </tr>\n",
       "    <tr>\n",
       "      <th>2091134</th>\n",
       "      <td>Centro-Oeste</td>\n",
       "      <td>DF</td>\n",
       "      <td>Brasília</td>\n",
       "      <td>53</td>\n",
       "      <td>530010.0</td>\n",
       "      <td>53001.0</td>\n",
       "      <td>DISTRITO FEDERAL</td>\n",
       "      <td>2021-03-30</td>\n",
       "      <td>13</td>\n",
       "      <td>3015268.0</td>\n",
       "      <td>343111</td>\n",
       "      <td>1353</td>\n",
       "      <td>5912</td>\n",
       "      <td>94</td>\n",
       "      <td>NaN</td>\n",
       "      <td>NaN</td>\n",
       "      <td>1.0</td>\n",
       "    </tr>\n",
       "    <tr>\n",
       "      <th>2091135</th>\n",
       "      <td>Centro-Oeste</td>\n",
       "      <td>DF</td>\n",
       "      <td>Brasília</td>\n",
       "      <td>53</td>\n",
       "      <td>530010.0</td>\n",
       "      <td>53001.0</td>\n",
       "      <td>DISTRITO FEDERAL</td>\n",
       "      <td>2021-03-31</td>\n",
       "      <td>13</td>\n",
       "      <td>3015268.0</td>\n",
       "      <td>344364</td>\n",
       "      <td>1253</td>\n",
       "      <td>6029</td>\n",
       "      <td>117</td>\n",
       "      <td>NaN</td>\n",
       "      <td>NaN</td>\n",
       "      <td>1.0</td>\n",
       "    </tr>\n",
       "    <tr>\n",
       "      <th>2091136</th>\n",
       "      <td>Centro-Oeste</td>\n",
       "      <td>DF</td>\n",
       "      <td>Brasília</td>\n",
       "      <td>53</td>\n",
       "      <td>530010.0</td>\n",
       "      <td>53001.0</td>\n",
       "      <td>DISTRITO FEDERAL</td>\n",
       "      <td>2021-04-01</td>\n",
       "      <td>13</td>\n",
       "      <td>3015268.0</td>\n",
       "      <td>345682</td>\n",
       "      <td>1318</td>\n",
       "      <td>6150</td>\n",
       "      <td>121</td>\n",
       "      <td>NaN</td>\n",
       "      <td>NaN</td>\n",
       "      <td>1.0</td>\n",
       "    </tr>\n",
       "    <tr>\n",
       "      <th>2091137</th>\n",
       "      <td>Centro-Oeste</td>\n",
       "      <td>DF</td>\n",
       "      <td>Brasília</td>\n",
       "      <td>53</td>\n",
       "      <td>530010.0</td>\n",
       "      <td>53001.0</td>\n",
       "      <td>DISTRITO FEDERAL</td>\n",
       "      <td>2021-04-02</td>\n",
       "      <td>13</td>\n",
       "      <td>3015268.0</td>\n",
       "      <td>346873</td>\n",
       "      <td>1191</td>\n",
       "      <td>6207</td>\n",
       "      <td>57</td>\n",
       "      <td>NaN</td>\n",
       "      <td>NaN</td>\n",
       "      <td>1.0</td>\n",
       "    </tr>\n",
       "  </tbody>\n",
       "</table>\n",
       "</div>"
      ],
      "text/plain": [
       "               regiao estado municipio  coduf    codmun  codRegiaoSaude  \\\n",
       "2091131  Centro-Oeste     DF  Brasília     53  530010.0         53001.0   \n",
       "2091132  Centro-Oeste     DF  Brasília     53  530010.0         53001.0   \n",
       "2091133  Centro-Oeste     DF  Brasília     53  530010.0         53001.0   \n",
       "2091134  Centro-Oeste     DF  Brasília     53  530010.0         53001.0   \n",
       "2091135  Centro-Oeste     DF  Brasília     53  530010.0         53001.0   \n",
       "2091136  Centro-Oeste     DF  Brasília     53  530010.0         53001.0   \n",
       "2091137  Centro-Oeste     DF  Brasília     53  530010.0         53001.0   \n",
       "\n",
       "          nomeRegiaoSaude        data  semanaEpi  populacaoTCU2019  \\\n",
       "2091131  DISTRITO FEDERAL  2021-03-27         12         3015268.0   \n",
       "2091132  DISTRITO FEDERAL  2021-03-28         13         3015268.0   \n",
       "2091133  DISTRITO FEDERAL  2021-03-29         13         3015268.0   \n",
       "2091134  DISTRITO FEDERAL  2021-03-30         13         3015268.0   \n",
       "2091135  DISTRITO FEDERAL  2021-03-31         13         3015268.0   \n",
       "2091136  DISTRITO FEDERAL  2021-04-01         13         3015268.0   \n",
       "2091137  DISTRITO FEDERAL  2021-04-02         13         3015268.0   \n",
       "\n",
       "         casosAcumulado  casosNovos  obitosAcumulado  obitosNovos  \\\n",
       "2091131          338930        1636             5717           43   \n",
       "2091132          340166        1236             5757           40   \n",
       "2091133          341758        1592             5818           61   \n",
       "2091134          343111        1353             5912           94   \n",
       "2091135          344364        1253             6029          117   \n",
       "2091136          345682        1318             6150          121   \n",
       "2091137          346873        1191             6207           57   \n",
       "\n",
       "         Recuperadosnovos  emAcompanhamentoNovos  interior/metropolitana  \n",
       "2091131               NaN                    NaN                     1.0  \n",
       "2091132               NaN                    NaN                     1.0  \n",
       "2091133               NaN                    NaN                     1.0  \n",
       "2091134               NaN                    NaN                     1.0  \n",
       "2091135               NaN                    NaN                     1.0  \n",
       "2091136               NaN                    NaN                     1.0  \n",
       "2091137               NaN                    NaN                     1.0  "
      ]
     },
     "execution_count": 7,
     "metadata": {},
     "output_type": "execute_result"
    }
   ],
   "source": [
    "database.tail(7)"
   ]
  },
  {
   "cell_type": "code",
   "execution_count": 8,
   "metadata": {},
   "outputs": [
    {
     "data": {
      "text/html": [
       "<div>\n",
       "<style scoped>\n",
       "    .dataframe tbody tr th:only-of-type {\n",
       "        vertical-align: middle;\n",
       "    }\n",
       "\n",
       "    .dataframe tbody tr th {\n",
       "        vertical-align: top;\n",
       "    }\n",
       "\n",
       "    .dataframe thead th {\n",
       "        text-align: right;\n",
       "    }\n",
       "</style>\n",
       "<table border=\"1\" class=\"dataframe\">\n",
       "  <thead>\n",
       "    <tr style=\"text-align: right;\">\n",
       "      <th></th>\n",
       "      <th>coduf</th>\n",
       "      <th>codmun</th>\n",
       "      <th>codRegiaoSaude</th>\n",
       "      <th>semanaEpi</th>\n",
       "      <th>populacaoTCU2019</th>\n",
       "      <th>casosAcumulado</th>\n",
       "      <th>casosNovos</th>\n",
       "      <th>obitosAcumulado</th>\n",
       "      <th>obitosNovos</th>\n",
       "      <th>Recuperadosnovos</th>\n",
       "      <th>emAcompanhamentoNovos</th>\n",
       "      <th>interior/metropolitana</th>\n",
       "    </tr>\n",
       "  </thead>\n",
       "  <tbody>\n",
       "    <tr>\n",
       "      <th>count</th>\n",
       "      <td>2.091138e+06</td>\n",
       "      <td>2.079852e+06</td>\n",
       "      <td>2.072040e+06</td>\n",
       "      <td>2.091138e+06</td>\n",
       "      <td>2.083326e+06</td>\n",
       "      <td>2.091138e+06</td>\n",
       "      <td>2.091138e+06</td>\n",
       "      <td>2.091138e+06</td>\n",
       "      <td>2.091138e+06</td>\n",
       "      <td>3.500000e+02</td>\n",
       "      <td>3.500000e+02</td>\n",
       "      <td>2.072040e+06</td>\n",
       "    </tr>\n",
       "    <tr>\n",
       "      <th>mean</th>\n",
       "      <td>3.235977e+01</td>\n",
       "      <td>3.252580e+05</td>\n",
       "      <td>3.240312e+04</td>\n",
       "      <td>2.695574e+01</td>\n",
       "      <td>1.190278e+05</td>\n",
       "      <td>2.612030e+03</td>\n",
       "      <td>1.852113e+01</td>\n",
       "      <td>7.156445e+01</td>\n",
       "      <td>4.708527e-01</td>\n",
       "      <td>4.447837e+06</td>\n",
       "      <td>6.105666e+05</td>\n",
       "      <td>6.929982e-02</td>\n",
       "    </tr>\n",
       "    <tr>\n",
       "      <th>std</th>\n",
       "      <td>9.876291e+00</td>\n",
       "      <td>9.853505e+04</td>\n",
       "      <td>9.836344e+03</td>\n",
       "      <td>1.529399e+01</td>\n",
       "      <td>3.060713e+06</td>\n",
       "      <td>8.534410e+04</td>\n",
       "      <td>5.771845e+02</td>\n",
       "      <td>2.252128e+03</td>\n",
       "      <td>1.529982e+01</td>\n",
       "      <td>3.303929e+06</td>\n",
       "      <td>2.869006e+05</td>\n",
       "      <td>2.539634e-01</td>\n",
       "    </tr>\n",
       "    <tr>\n",
       "      <th>min</th>\n",
       "      <td>1.100000e+01</td>\n",
       "      <td>1.100000e+05</td>\n",
       "      <td>1.100100e+04</td>\n",
       "      <td>1.000000e+00</td>\n",
       "      <td>7.810000e+02</td>\n",
       "      <td>0.000000e+00</td>\n",
       "      <td>-1.391500e+04</td>\n",
       "      <td>0.000000e+00</td>\n",
       "      <td>-2.920000e+02</td>\n",
       "      <td>2.213000e+04</td>\n",
       "      <td>1.406200e+04</td>\n",
       "      <td>0.000000e+00</td>\n",
       "    </tr>\n",
       "    <tr>\n",
       "      <th>25%</th>\n",
       "      <td>2.500000e+01</td>\n",
       "      <td>2.512000e+05</td>\n",
       "      <td>2.501000e+04</td>\n",
       "      <td>1.400000e+01</td>\n",
       "      <td>5.474000e+03</td>\n",
       "      <td>1.300000e+01</td>\n",
       "      <td>0.000000e+00</td>\n",
       "      <td>0.000000e+00</td>\n",
       "      <td>0.000000e+00</td>\n",
       "      <td>1.265755e+06</td>\n",
       "      <td>4.207070e+05</td>\n",
       "      <td>0.000000e+00</td>\n",
       "    </tr>\n",
       "    <tr>\n",
       "      <th>50%</th>\n",
       "      <td>3.100000e+01</td>\n",
       "      <td>3.146100e+05</td>\n",
       "      <td>3.105900e+04</td>\n",
       "      <td>2.700000e+01</td>\n",
       "      <td>1.170800e+04</td>\n",
       "      <td>1.130000e+02</td>\n",
       "      <td>0.000000e+00</td>\n",
       "      <td>2.000000e+00</td>\n",
       "      <td>0.000000e+00</td>\n",
       "      <td>4.461942e+06</td>\n",
       "      <td>6.378505e+05</td>\n",
       "      <td>0.000000e+00</td>\n",
       "    </tr>\n",
       "    <tr>\n",
       "      <th>75%</th>\n",
       "      <td>4.100000e+01</td>\n",
       "      <td>4.119150e+05</td>\n",
       "      <td>4.101500e+04</td>\n",
       "      <td>4.000000e+01</td>\n",
       "      <td>2.576800e+04</td>\n",
       "      <td>4.490000e+02</td>\n",
       "      <td>2.000000e+00</td>\n",
       "      <td>9.000000e+00</td>\n",
       "      <td>0.000000e+00</td>\n",
       "      <td>6.941363e+06</td>\n",
       "      <td>7.860965e+05</td>\n",
       "      <td>0.000000e+00</td>\n",
       "    </tr>\n",
       "    <tr>\n",
       "      <th>max</th>\n",
       "      <td>7.600000e+01</td>\n",
       "      <td>5.300100e+05</td>\n",
       "      <td>5.300100e+04</td>\n",
       "      <td>5.300000e+01</td>\n",
       "      <td>2.101471e+08</td>\n",
       "      <td>1.291008e+07</td>\n",
       "      <td>1.001580e+05</td>\n",
       "      <td>3.282060e+05</td>\n",
       "      <td>3.869000e+03</td>\n",
       "      <td>1.127663e+07</td>\n",
       "      <td>1.309541e+06</td>\n",
       "      <td>1.000000e+00</td>\n",
       "    </tr>\n",
       "  </tbody>\n",
       "</table>\n",
       "</div>"
      ],
      "text/plain": [
       "              coduf        codmun  codRegiaoSaude     semanaEpi  \\\n",
       "count  2.091138e+06  2.079852e+06    2.072040e+06  2.091138e+06   \n",
       "mean   3.235977e+01  3.252580e+05    3.240312e+04  2.695574e+01   \n",
       "std    9.876291e+00  9.853505e+04    9.836344e+03  1.529399e+01   \n",
       "min    1.100000e+01  1.100000e+05    1.100100e+04  1.000000e+00   \n",
       "25%    2.500000e+01  2.512000e+05    2.501000e+04  1.400000e+01   \n",
       "50%    3.100000e+01  3.146100e+05    3.105900e+04  2.700000e+01   \n",
       "75%    4.100000e+01  4.119150e+05    4.101500e+04  4.000000e+01   \n",
       "max    7.600000e+01  5.300100e+05    5.300100e+04  5.300000e+01   \n",
       "\n",
       "       populacaoTCU2019  casosAcumulado    casosNovos  obitosAcumulado  \\\n",
       "count      2.083326e+06    2.091138e+06  2.091138e+06     2.091138e+06   \n",
       "mean       1.190278e+05    2.612030e+03  1.852113e+01     7.156445e+01   \n",
       "std        3.060713e+06    8.534410e+04  5.771845e+02     2.252128e+03   \n",
       "min        7.810000e+02    0.000000e+00 -1.391500e+04     0.000000e+00   \n",
       "25%        5.474000e+03    1.300000e+01  0.000000e+00     0.000000e+00   \n",
       "50%        1.170800e+04    1.130000e+02  0.000000e+00     2.000000e+00   \n",
       "75%        2.576800e+04    4.490000e+02  2.000000e+00     9.000000e+00   \n",
       "max        2.101471e+08    1.291008e+07  1.001580e+05     3.282060e+05   \n",
       "\n",
       "        obitosNovos  Recuperadosnovos  emAcompanhamentoNovos  \\\n",
       "count  2.091138e+06      3.500000e+02           3.500000e+02   \n",
       "mean   4.708527e-01      4.447837e+06           6.105666e+05   \n",
       "std    1.529982e+01      3.303929e+06           2.869006e+05   \n",
       "min   -2.920000e+02      2.213000e+04           1.406200e+04   \n",
       "25%    0.000000e+00      1.265755e+06           4.207070e+05   \n",
       "50%    0.000000e+00      4.461942e+06           6.378505e+05   \n",
       "75%    0.000000e+00      6.941363e+06           7.860965e+05   \n",
       "max    3.869000e+03      1.127663e+07           1.309541e+06   \n",
       "\n",
       "       interior/metropolitana  \n",
       "count            2.072040e+06  \n",
       "mean             6.929982e-02  \n",
       "std              2.539634e-01  \n",
       "min              0.000000e+00  \n",
       "25%              0.000000e+00  \n",
       "50%              0.000000e+00  \n",
       "75%              0.000000e+00  \n",
       "max              1.000000e+00  "
      ]
     },
     "execution_count": 8,
     "metadata": {},
     "output_type": "execute_result"
    }
   ],
   "source": [
    "database.describe()"
   ]
  },
  {
   "cell_type": "code",
   "execution_count": 9,
   "metadata": {},
   "outputs": [
    {
     "name": "stderr",
     "output_type": "stream",
     "text": [
      "c:\\users\\wander washington\\appdata\\local\\programs\\python\\python37\\lib\\site-packages\\seaborn\\_core.py:1303: UserWarning: Vertical orientation ignored with only `x` specified.\n",
      "  warnings.warn(single_var_warning.format(\"Vertical\", \"x\"))\n"
     ]
    },
    {
     "data": {
      "text/plain": [
       "<AxesSubplot:xlabel='obitosNovos'>"
      ]
     },
     "execution_count": 9,
     "metadata": {},
     "output_type": "execute_result"
    },
    {
     "data": {
      "image/png": "[encoded data removed]",
      "text/plain": [
       "<Figure size 432x288 with 1 Axes>"
      ]
     },
     "metadata": {
      "needs_background": "light"
     },
     "output_type": "display_data"
    }
   ],
   "source": [
    "\n",
    "sns.violinplot(x=database['obitosNovos'], orient='vertical')"
   ]
  },
  {
   "cell_type": "code",
   "execution_count": 10,
   "metadata": {},
   "outputs": [
    {
     "name": "stderr",
     "output_type": "stream",
     "text": [
      "c:\\users\\wander washington\\appdata\\local\\programs\\python\\python37\\lib\\site-packages\\seaborn\\_core.py:1303: UserWarning: Vertical orientation ignored with only `x` specified.\n",
      "  warnings.warn(single_var_warning.format(\"Vertical\", \"x\"))\n"
     ]
    },
    {
     "data": {
      "text/plain": [
       "<AxesSubplot:xlabel='obitosNovos'>"
      ]
     },
     "execution_count": 10,
     "metadata": {},
     "output_type": "execute_result"
    },
    {
     "data": {
      "image/png": "[encoded data removed]",
      "text/plain": [
       "<Figure size 432x288 with 1 Axes>"
      ]
     },
     "metadata": {
      "needs_background": "light"
     },
     "output_type": "display_data"
    }
   ],
   "source": [
    "import seaborn as sns\n",
    "\n",
    "sns.boxplot(x=database['obitosNovos'], orient='vertical')"
   ]
  },
  {
   "cell_type": "code",
   "execution_count": null,
   "metadata": {},
   "outputs": [],
   "source": [
    "import datetime\n",
    "\n",
    "import matplotlib.dates as mdates\n",
    "start = datetime.datetime.now()\n",
    "\n",
    "sns.catplot(x='data', y='obitosNovos', data=database, height=10, aspect=1)\n",
    "plt.title(\"Novos obitos por dia\");\n",
    "print(datetime.datetime.now() - start)"
   ]
  },
  {
   "cell_type": "code",
   "execution_count": null,
   "metadata": {},
   "outputs": [],
   "source": []
  },
  {
   "cell_type": "code",
   "execution_count": null,
   "metadata": {},
   "outputs": [],
   "source": [
    "sp = database.query(\"estado == 'SP'\")"
   ]
  },
  {
   "cell_type": "code",
   "execution_count": null,
   "metadata": {},
   "outputs": [],
   "source": [
    "\n",
    "#sp['obitosNovos'].plot(kind='bar', figsize=(17,10), rot=90)\n",
    "#plt.title('COVID-19 Brazil')\n",
    "#plt.ylabel('Quantity')\n",
    "#plt.xlabel('Date')\n",
    "\n"
   ]
  },
  {
   "cell_type": "code",
   "execution_count": null,
   "metadata": {},
   "outputs": [],
   "source": [
    "sp['obitosNovos'].sum()"
   ]
  },
  {
   "cell_type": "code",
   "execution_count": null,
   "metadata": {},
   "outputs": [],
   "source": [
    "quantity = sp.groupby('data').obitosNovos.sum()\n",
    "quantity.plot()"
   ]
  },
  {
   "cell_type": "code",
   "execution_count": null,
   "metadata": {},
   "outputs": [],
   "source": [
    "quantity.tail().plot(kind='bar', rot=90, figsize=(15,15))\n",
    "plt.title('Novos obitos nos ultimos 5 dias em SP')"
   ]
  },
  {
   "cell_type": "code",
   "execution_count": null,
   "metadata": {},
   "outputs": [],
   "source": []
  },
  {
   "cell_type": "code",
   "execution_count": null,
   "metadata": {},
   "outputs": [],
   "source": [
    "casesQuantity = sp.groupby('data').casosNovos.sum()\n",
    "casesQuantity.plot()"
   ]
  },
  {
   "cell_type": "code",
   "execution_count": null,
   "metadata": {},
   "outputs": [],
   "source": [
    "\n",
    "casesQuantity.tail().plot(kind='bar', rot=90, figsize=(15,15))\n",
    "plt.title('Novos casos nos ultimos 5 dias em SP')"
   ]
  },
  {
   "cell_type": "code",
   "execution_count": null,
   "metadata": {},
   "outputs": [],
   "source": [
    "'''\n",
    "    Use this function to return a UF. \n",
    "    parameters:\n",
    "        dataframe:: Used Dataframe\n",
    "        uf:: state abbreviation\n",
    "    \n",
    "    return:: Dataframe\n",
    "'''\n",
    "def getDataByUF(dataframe, uf):\n",
    "    data = dataframe.query(\"estado == '%s'\" % uf)\n",
    "    return data;"
   ]
  },
  {
   "cell_type": "code",
   "execution_count": null,
   "metadata": {},
   "outputs": [],
   "source": [
    "def plotNewCasesFiveDays(dataframe):\n",
    "    uf = sp.estado.iloc[0]\n",
    "    casesQuantity.tail().plot(kind='bar', rot=90, figsize=(15,15))\n",
    "    plt.xlabel(\"Data\")\n",
    "    plt.ylabel(\"Quantidade\")\n",
    "    plt.title('Novos casos nos ultimos 5 dias em %s' % uf)"
   ]
  },
  {
   "cell_type": "code",
   "execution_count": null,
   "metadata": {},
   "outputs": [],
   "source": [
    "sp = getDataByUF(database, 'SP')"
   ]
  },
  {
   "cell_type": "code",
   "execution_count": null,
   "metadata": {},
   "outputs": [],
   "source": [
    "plotNewCasesFiveDays(sp)"
   ]
  },
  {
   "cell_type": "code",
   "execution_count": null,
   "metadata": {},
   "outputs": [],
   "source": [
    "''' Create a directory in charts folder with the parameter dirName\n",
    "    parameters:: dirName -> str \n",
    "'''\n",
    "def createDir(dirName):\n",
    "    import os\n",
    "    try:\n",
    "        os.mkdir('Charts/BrazilData/'+dirName)\n",
    "        print(\"Directory \" , dirName ,  \" Created \")\n",
    "    except FileExistsError:\n",
    "        print(\"Directory \" , dirName ,  \" already exists\")\n",
    "  "
   ]
  },
  {
   "cell_type": "code",
   "execution_count": null,
   "metadata": {},
   "outputs": [],
   "source": [
    "database.estado.unique()"
   ]
  },
  {
   "cell_type": "code",
   "execution_count": null,
   "metadata": {},
   "outputs": [],
   "source": [
    "lista = database.estado.dropna().unique()"
   ]
  },
  {
   "cell_type": "code",
   "execution_count": null,
   "metadata": {},
   "outputs": [],
   "source": [
    "lista"
   ]
  },
  {
   "cell_type": "code",
   "execution_count": null,
   "metadata": {},
   "outputs": [],
   "source": [
    "#Generating charts by State Dynamically.\n",
    "def plotNewCasesByUF(dataframe, lista):\n",
    "    for state in lista:\n",
    "        stateData = getDataByUF(dataframe, state)\n",
    "        createDir(state)\n",
    "        \n",
    "        stateNewCases = stateData.groupby('data').casosNovos.sum()\n",
    "        stateNewCases.tail(7).plot(kind='bar', rot=90, figsize=(15,15))\n",
    "        plt.xlabel(\"Data\")\n",
    "        plt.ylabel(\"Quantidade\")\n",
    "        plt.title('Novos casos nos ultimos 7 dias em %s' % state)\n",
    "        plt.savefig('Charts/BrazilData/'+state+'/'+'%s'%state+'- Novos casos nos ultimos 7 dias em %s' % state +'.png')\n",
    "\n",
    "\n",
    "#Generating charts by State Dynamically.\n",
    "def plotNewDeathsByUF(dataframe, lista):\n",
    "    for state in lista:\n",
    "        stateData = getDataByUF(dataframe, state)\n",
    "        createDir(state)\n",
    "        \n",
    "        stateNewCases = stateData.groupby('data').obitosNovos.sum()\n",
    "        stateNewCases.tail(7).plot(kind='bar', rot=90, figsize=(15,15))\n",
    "        plt.xlabel(\"Data\")\n",
    "        plt.ylabel(\"Quantidade\")\n",
    "        plt.title('Novos obitos nos ultimos 7 dias em %s' % state)\n",
    "        plt.savefig('Charts/BrazilData/'+state+'/'+'%s'%state+'- Novos obitos nos ultimos 7 dias em %s' % state+'.png')\n",
    "\n",
    "        \n",
    "    \n",
    "#Generating charts by State Dynamically.\n",
    "def plotAccumulatedCasesByUF(dataframe, lista):\n",
    "    for state in lista:\n",
    "        stateData = getDataByUF(dataframe, state)\n",
    "        createDir(state)\n",
    "        \n",
    "        stateNewCases = stateData.groupby('data').casosAcumulado.sum()\n",
    "        stateNewCases.tail(7).plot(kind='bar', rot=90, figsize=(15,15))\n",
    "        plt.xlabel(\"Data\")\n",
    "        plt.ylabel(\"Quantidade\")\n",
    "        plt.title('Casos acumulados nos ultimos 7 dias em %s' % state)\n",
    "        plt.savefig('Charts/BrazilData/'+state+'/'+'%s'%state+'- Casos acumulados nos ultimos 7 dias em %s' % state+'.png')\n",
    "\n",
    "def plotAccumulatedDeathsByUF(dataframe, lista):\n",
    "    for state in lista:\n",
    "        stateData = getDataByUF(dataframe, state)\n",
    "        createDir(state)\n",
    "        \n",
    "        stateNewCases = stateData.groupby('data').obitosAcumulado.sum()\n",
    "        stateNewCases.tail(7).plot(kind='bar', rot=90, figsize=(15,15))\n",
    "        plt.xlabel(\"Data\")\n",
    "        plt.ylabel(\"Quantidade\")\n",
    "        plt.title('Casos acumulados nos ultimos 7 dias em %s' % state)\n",
    "        plt.savefig('Charts/BrazilData/'+state+'/'+'%s'%state+'- Obitos acumulados nos ultimos 7 dias em %s' % state+'.png')\n",
    "\n",
    "        \n",
    "def plotNewRecoveredByUF(dataframe, lista):\n",
    "    for state in lista:\n",
    "        stateData = getDataByUF(dataframe, state)\n",
    "        createDir(state)\n",
    "        \n",
    "        stateNewCases = stateData.groupby('data').Recuperadosnovos.sum()\n",
    "        stateNewCases.tail(7).plot(kind='bar', rot=90, figsize=(15,15))\n",
    "        plt.xlabel(\"Data\")\n",
    "        plt.ylabel(\"Quantidade\")\n",
    "        plt.title('Novos recuperados nos ultimos 7 dias em %s' % state)\n",
    "        plt.savefig('Charts/BrazilData/'+state+'/'+'%s'%state+'- Novos recuperados nos ultimos 7 dias em %s' % state+'.png')\n",
    "           \n",
    "def plotUnderSupervisionCasesByUF(dataframe, lista):\n",
    "    for state in lista:\n",
    "        stateData = getDataByUF(dataframe, state)\n",
    "        createDir(state)\n",
    "        \n",
    "        stateNewCases = stateData.groupby('data').emAcompanhamentoNovos.sum()\n",
    "        stateNewCases.tail(7).plot(kind='bar', rot=90, figsize=(15,15))\n",
    "        plt.xlabel(\"Data\")\n",
    "        plt.ylabel(\"Quantidade\")\n",
    "        plt.title('Casos em acompanhamento ultimos 7 dias em %s' % state)\n",
    "        plt.savefig('Charts/BrazilData/'+state+'/'+'%s'%state+'- Casos em acompanhamento nos ultimos 7 dias em %s' % state+'.png')\n",
    "           \n",
    "    \n",
    "    \n",
    "    \n"
   ]
  },
  {
   "cell_type": "code",
   "execution_count": null,
   "metadata": {},
   "outputs": [],
   "source": [
    "'''\n",
    "       Plotting chart using the list with states. Foreach state, a new chart with their info is \n",
    "       saved in folder with the state abbreviation name.\n",
    "'''\n",
    "plotNewCasesByUF(database, lista)"
   ]
  },
  {
   "cell_type": "code",
   "execution_count": null,
   "metadata": {},
   "outputs": [],
   "source": [
    "plotNewDeathsByUF(database, lista)"
   ]
  },
  {
   "cell_type": "code",
   "execution_count": null,
   "metadata": {},
   "outputs": [],
   "source": [
    "plotAccumulatedCasesByUF(database, lista)"
   ]
  },
  {
   "cell_type": "code",
   "execution_count": null,
   "metadata": {},
   "outputs": [],
   "source": [
    "plotAccumulatedDeathsByUF(database, lista)"
   ]
  },
  {
   "cell_type": "code",
   "execution_count": null,
   "metadata": {},
   "outputs": [],
   "source": []
  },
  {
   "cell_type": "code",
   "execution_count": null,
   "metadata": {},
   "outputs": [],
   "source": []
  },
  {
   "cell_type": "code",
   "execution_count": null,
   "metadata": {},
   "outputs": [],
   "source": []
  }
 ],
 "metadata": {
  "kernelspec": {
   "display_name": "Python 3",
   "language": "python",
   "name": "python3"
  },
  "language_info": {
   "codemirror_mode": {
    "name": "ipython",
    "version": 3
   },
   "file_extension": ".py",
   "mimetype": "text/x-python",
   "name": "python",
   "nbconvert_exporter": "python",
   "pygments_lexer": "ipython3",
   "version": "3.7.9"
  }
 },
 "nbformat": 4,
 "nbformat_minor": 4
}
